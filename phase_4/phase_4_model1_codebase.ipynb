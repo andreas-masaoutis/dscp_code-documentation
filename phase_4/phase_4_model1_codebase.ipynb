{
 "cells": [
  {
   "cell_type": "markdown",
   "metadata": {},
   "source": [
    "### Model training and evaluation"
   ]
  },
  {
   "cell_type": "code",
   "execution_count": 6,
   "metadata": {},
   "outputs": [],
   "source": [
    "# The modules we will need\n",
    "\n",
    "\n",
    "# NumPy might be useful in some cases with data manipulating \n",
    "import numpy as np\n",
    "\n",
    "\n",
    "# pandas will be useful for data handling\n",
    "import pandas as pd\n",
    "\n",
    "\n",
    "# an option for displaying all the columns of our main dataframe\n",
    "pd.options.display.max_columns = 30\n",
    "\n",
    "\n",
    "# With matplotlib we will do the plotting\n",
    "import matplotlib.pyplot as plt\n",
    "%matplotlib inline\n",
    "\n",
    "\n",
    "# with this option we control the look and feel of the plots\n",
    "from matplotlib import style\n",
    "style.use((['ggplot',  'fast']))\n",
    "\n",
    "\n",
    "# This will be our classifier\n",
    "from sklearn.ensemble import RandomForestClassifier\n",
    "\n",
    "# This helps with automatically splitting the data into train and test parts\n",
    "from sklearn.model_selection import train_test_split\n",
    "\n",
    "\n",
    "# Grid search looks at many combinations of parameters of the classifier and finds the optimal combination\n",
    "from sklearn.model_selection import GridSearchCV\n",
    "\n",
    "# These are some of the standard metrics for evaluating out models\n",
    "from sklearn.metrics import classification_report, confusion_matrix, roc_curve, auc, f1_score\n",
    "\n",
    "# We will use this module to 'pickle' and preserve the trained model, so that we can save it for later use\n",
    "import pickle\n"
   ]
  },
  {
   "cell_type": "code",
   "execution_count": 7,
   "metadata": {},
   "outputs": [
    {
     "name": "stderr",
     "output_type": "stream",
     "text": [
      "/home/takis/anaconda3/lib/python3.7/site-packages/numpy/lib/arraysetops.py:569: FutureWarning: elementwise comparison failed; returning scalar instead, but in the future will perform elementwise comparison\n",
      "  mask |= (ar1 == a)\n"
     ]
    }
   ],
   "source": [
    "model1_df = pd.read_csv('output/model1_data.csv', dtype='float16', index_col='Unnamed: 0')"
   ]
  },
  {
   "cell_type": "code",
   "execution_count": 8,
   "metadata": {},
   "outputs": [
    {
     "data": {
      "text/html": [
       "<div>\n",
       "<style scoped>\n",
       "    .dataframe tbody tr th:only-of-type {\n",
       "        vertical-align: middle;\n",
       "    }\n",
       "\n",
       "    .dataframe tbody tr th {\n",
       "        vertical-align: top;\n",
       "    }\n",
       "\n",
       "    .dataframe thead th {\n",
       "        text-align: right;\n",
       "    }\n",
       "</style>\n",
       "<table border=\"1\" class=\"dataframe\">\n",
       "  <thead>\n",
       "    <tr style=\"text-align: right;\">\n",
       "      <th></th>\n",
       "      <th>LateAircraftDelay</th>\n",
       "      <th>previous_ArrDelay_percent</th>\n",
       "      <th>avg_flight_time_percent</th>\n",
       "      <th>utilisation_percent</th>\n",
       "    </tr>\n",
       "  </thead>\n",
       "  <tbody>\n",
       "    <tr>\n",
       "      <th>0.0</th>\n",
       "      <td>NaN</td>\n",
       "      <td>0.038757</td>\n",
       "      <td>0.976562</td>\n",
       "      <td>1.000000</td>\n",
       "    </tr>\n",
       "    <tr>\n",
       "      <th>1.0</th>\n",
       "      <td>NaN</td>\n",
       "      <td>-0.043701</td>\n",
       "      <td>0.587402</td>\n",
       "      <td>0.965332</td>\n",
       "    </tr>\n",
       "    <tr>\n",
       "      <th>2.0</th>\n",
       "      <td>0.0</td>\n",
       "      <td>0.153809</td>\n",
       "      <td>-4.292969</td>\n",
       "      <td>1.000000</td>\n",
       "    </tr>\n",
       "    <tr>\n",
       "      <th>3.0</th>\n",
       "      <td>96.0</td>\n",
       "      <td>1.021484</td>\n",
       "      <td>0.679688</td>\n",
       "      <td>0.823730</td>\n",
       "    </tr>\n",
       "    <tr>\n",
       "      <th>4.0</th>\n",
       "      <td>63.0</td>\n",
       "      <td>0.806641</td>\n",
       "      <td>1.081055</td>\n",
       "      <td>1.000000</td>\n",
       "    </tr>\n",
       "  </tbody>\n",
       "</table>\n",
       "</div>"
      ],
      "text/plain": [
       "     LateAircraftDelay  previous_ArrDelay_percent  avg_flight_time_percent  \\\n",
       "0.0                NaN                   0.038757                 0.976562   \n",
       "1.0                NaN                  -0.043701                 0.587402   \n",
       "2.0                0.0                   0.153809                -4.292969   \n",
       "3.0               96.0                   1.021484                 0.679688   \n",
       "4.0               63.0                   0.806641                 1.081055   \n",
       "\n",
       "     utilisation_percent  \n",
       "0.0             1.000000  \n",
       "1.0             0.965332  \n",
       "2.0             1.000000  \n",
       "3.0             0.823730  \n",
       "4.0             1.000000  "
      ]
     },
     "execution_count": 8,
     "metadata": {},
     "output_type": "execute_result"
    }
   ],
   "source": [
    "model1_df.head()"
   ]
  },
  {
   "cell_type": "code",
   "execution_count": 9,
   "metadata": {},
   "outputs": [],
   "source": [
    "model1_df['LateAircraftDelay'] = model1_df['LateAircraftDelay'].apply(lambda x: True if x > 0 else False)"
   ]
  },
  {
   "cell_type": "code",
   "execution_count": 10,
   "metadata": {},
   "outputs": [],
   "source": [
    "model1_df.replace([np.inf, -np.inf], 0, inplace=True)"
   ]
  },
  {
   "cell_type": "code",
   "execution_count": 11,
   "metadata": {},
   "outputs": [],
   "source": [
    "model1_df.dropna(inplace=True)\n",
    "model1_df.reset_index(inplace=True)"
   ]
  },
  {
   "cell_type": "code",
   "execution_count": 12,
   "metadata": {},
   "outputs": [
    {
     "data": {
      "text/html": [
       "<div>\n",
       "<style scoped>\n",
       "    .dataframe tbody tr th:only-of-type {\n",
       "        vertical-align: middle;\n",
       "    }\n",
       "\n",
       "    .dataframe tbody tr th {\n",
       "        vertical-align: top;\n",
       "    }\n",
       "\n",
       "    .dataframe thead th {\n",
       "        text-align: right;\n",
       "    }\n",
       "</style>\n",
       "<table border=\"1\" class=\"dataframe\">\n",
       "  <thead>\n",
       "    <tr style=\"text-align: right;\">\n",
       "      <th></th>\n",
       "      <th>index</th>\n",
       "      <th>LateAircraftDelay</th>\n",
       "      <th>previous_ArrDelay_percent</th>\n",
       "      <th>avg_flight_time_percent</th>\n",
       "      <th>utilisation_percent</th>\n",
       "    </tr>\n",
       "  </thead>\n",
       "  <tbody>\n",
       "    <tr>\n",
       "      <th>0</th>\n",
       "      <td>0.0</td>\n",
       "      <td>False</td>\n",
       "      <td>0.038757</td>\n",
       "      <td>0.976562</td>\n",
       "      <td>1.000000</td>\n",
       "    </tr>\n",
       "    <tr>\n",
       "      <th>1</th>\n",
       "      <td>1.0</td>\n",
       "      <td>False</td>\n",
       "      <td>-0.043701</td>\n",
       "      <td>0.587402</td>\n",
       "      <td>0.965332</td>\n",
       "    </tr>\n",
       "    <tr>\n",
       "      <th>2</th>\n",
       "      <td>2.0</td>\n",
       "      <td>False</td>\n",
       "      <td>0.153809</td>\n",
       "      <td>-4.292969</td>\n",
       "      <td>1.000000</td>\n",
       "    </tr>\n",
       "    <tr>\n",
       "      <th>3</th>\n",
       "      <td>3.0</td>\n",
       "      <td>True</td>\n",
       "      <td>1.021484</td>\n",
       "      <td>0.679688</td>\n",
       "      <td>0.823730</td>\n",
       "    </tr>\n",
       "    <tr>\n",
       "      <th>4</th>\n",
       "      <td>4.0</td>\n",
       "      <td>True</td>\n",
       "      <td>0.806641</td>\n",
       "      <td>1.081055</td>\n",
       "      <td>1.000000</td>\n",
       "    </tr>\n",
       "  </tbody>\n",
       "</table>\n",
       "</div>"
      ],
      "text/plain": [
       "   index  LateAircraftDelay  previous_ArrDelay_percent  \\\n",
       "0    0.0              False                   0.038757   \n",
       "1    1.0              False                  -0.043701   \n",
       "2    2.0              False                   0.153809   \n",
       "3    3.0               True                   1.021484   \n",
       "4    4.0               True                   0.806641   \n",
       "\n",
       "   avg_flight_time_percent  utilisation_percent  \n",
       "0                 0.976562             1.000000  \n",
       "1                 0.587402             0.965332  \n",
       "2                -4.292969             1.000000  \n",
       "3                 0.679688             0.823730  \n",
       "4                 1.081055             1.000000  "
      ]
     },
     "execution_count": 12,
     "metadata": {},
     "output_type": "execute_result"
    }
   ],
   "source": [
    "model1_df.head()"
   ]
  },
  {
   "cell_type": "code",
   "execution_count": 13,
   "metadata": {},
   "outputs": [],
   "source": [
    "X = model1_df[['previous_ArrDelay_percent', 'avg_flight_time_percent', 'utilisation_percent']]"
   ]
  },
  {
   "cell_type": "code",
   "execution_count": 14,
   "metadata": {},
   "outputs": [],
   "source": [
    "y = model1_df[['LateAircraftDelay']]"
   ]
  },
  {
   "cell_type": "code",
   "execution_count": 15,
   "metadata": {},
   "outputs": [],
   "source": [
    "X_train, X_test, y_train, y_test = train_test_split(X, y, test_size=0.33)"
   ]
  },
  {
   "cell_type": "code",
   "execution_count": 16,
   "metadata": {},
   "outputs": [
    {
     "name": "stderr",
     "output_type": "stream",
     "text": [
      "/home/takis/anaconda3/lib/python3.7/site-packages/ipykernel_launcher.py:4: SettingWithCopyWarning: \n",
      "A value is trying to be set on a copy of a slice from a DataFrame.\n",
      "Try using .loc[row_indexer,col_indexer] = value instead\n",
      "\n",
      "See the caveats in the documentation: http://pandas.pydata.org/pandas-docs/stable/indexing.html#indexing-view-versus-copy\n",
      "  after removing the cwd from sys.path.\n"
     ]
    }
   ],
   "source": [
    "## random True column with the same proportion as the target feature\n",
    "class_proportion = y_test.mean()[0]\n",
    "\n",
    "y_test['random'] = y_test.apply( lambda x : 1 if np.random.random() < class_proportion else 0 , axis=1)"
   ]
  },
  {
   "cell_type": "code",
   "execution_count": 17,
   "metadata": {},
   "outputs": [
    {
     "data": {
      "text/html": [
       "<div>\n",
       "<style scoped>\n",
       "    .dataframe tbody tr th:only-of-type {\n",
       "        vertical-align: middle;\n",
       "    }\n",
       "\n",
       "    .dataframe tbody tr th {\n",
       "        vertical-align: top;\n",
       "    }\n",
       "\n",
       "    .dataframe thead th {\n",
       "        text-align: right;\n",
       "    }\n",
       "</style>\n",
       "<table border=\"1\" class=\"dataframe\">\n",
       "  <thead>\n",
       "    <tr style=\"text-align: right;\">\n",
       "      <th></th>\n",
       "      <th>LateAircraftDelay</th>\n",
       "      <th>random</th>\n",
       "    </tr>\n",
       "  </thead>\n",
       "  <tbody>\n",
       "    <tr>\n",
       "      <th>966124</th>\n",
       "      <td>False</td>\n",
       "      <td>0</td>\n",
       "    </tr>\n",
       "    <tr>\n",
       "      <th>1644127</th>\n",
       "      <td>False</td>\n",
       "      <td>0</td>\n",
       "    </tr>\n",
       "    <tr>\n",
       "      <th>4718586</th>\n",
       "      <td>False</td>\n",
       "      <td>0</td>\n",
       "    </tr>\n",
       "    <tr>\n",
       "      <th>3052897</th>\n",
       "      <td>False</td>\n",
       "      <td>0</td>\n",
       "    </tr>\n",
       "    <tr>\n",
       "      <th>6463123</th>\n",
       "      <td>False</td>\n",
       "      <td>0</td>\n",
       "    </tr>\n",
       "  </tbody>\n",
       "</table>\n",
       "</div>"
      ],
      "text/plain": [
       "         LateAircraftDelay  random\n",
       "966124               False       0\n",
       "1644127              False       0\n",
       "4718586              False       0\n",
       "3052897              False       0\n",
       "6463123              False       0"
      ]
     },
     "execution_count": 17,
     "metadata": {},
     "output_type": "execute_result"
    }
   ],
   "source": [
    "y_test.head()"
   ]
  },
  {
   "cell_type": "code",
   "execution_count": null,
   "metadata": {},
   "outputs": [],
   "source": [
    "### Do not try this at home, as it will take too looong.\n",
    "### Uncomment to use\n",
    "'''\n",
    "classifier = RandomForestClassifier()\n",
    "\n",
    "parameters = { 'n_estimators' : [100]\n",
    "              , 'criterion' : ('gini', 'entropy')\n",
    "              , 'max_depth' : [3,6,9] \n",
    "              , 'min_samples_leaf' : [100, 500, 1000]\n",
    "              , 'bootstrap' : [True]\n",
    "              , 'oob_score' : [True]\n",
    "              , 'class_weight' : ['balanced']\n",
    "             }\n",
    "\n",
    "grid = GridSearchCV(classifier, parameters)\n",
    "\n",
    "grid.fit(X_train, y_train)\n",
    "\n",
    "print(grid.best_estimator_)\n",
    "'''"
   ]
  },
  {
   "cell_type": "code",
   "execution_count": 18,
   "metadata": {},
   "outputs": [],
   "source": [
    "## saving the grid search for later inspection\n",
    "grid_filepath = 'output/grid_search.p'"
   ]
  },
  {
   "cell_type": "code",
   "execution_count": 19,
   "metadata": {},
   "outputs": [],
   "source": [
    "#pickle.dump(grid, open(grid_filepath, 'wb'))"
   ]
  },
  {
   "cell_type": "code",
   "execution_count": 20,
   "metadata": {},
   "outputs": [],
   "source": [
    "## let us load the grid, so one does not have to do the computation again\n",
    "grid = pickle.load( open( grid_filepath, 'rb' ) )"
   ]
  },
  {
   "cell_type": "code",
   "execution_count": 34,
   "metadata": {},
   "outputs": [
    {
     "name": "stdout",
     "output_type": "stream",
     "text": [
      "RandomForestClassifier(bootstrap=True, class_weight='balanced',\n",
      "            criterion='entropy', max_depth=3, max_features='auto',\n",
      "            max_leaf_nodes=None, min_impurity_decrease=0.0,\n",
      "            min_impurity_split=None, min_samples_leaf=100,\n",
      "            min_samples_split=2, min_weight_fraction_leaf=0.0,\n",
      "            n_estimators=100, n_jobs=None, oob_score=True,\n",
      "            random_state=None, verbose=0, warm_start=False)\n"
     ]
    }
   ],
   "source": [
    "## Let us use the best parameters to train our model\n",
    "best_classifier = grid.best_estimator_\n",
    "print (grid.best_estimator_)"
   ]
  },
  {
   "cell_type": "code",
   "execution_count": 17,
   "metadata": {},
   "outputs": [
    {
     "name": "stderr",
     "output_type": "stream",
     "text": [
      "/home/takis/anaconda3/lib/python3.7/site-packages/ipykernel_launcher.py:2: DataConversionWarning: A column-vector y was passed when a 1d array was expected. Please change the shape of y to (n_samples,), for example using ravel().\n",
      "  \n"
     ]
    },
    {
     "data": {
      "text/plain": [
       "RandomForestClassifier(bootstrap=True, class_weight='balanced',\n",
       "            criterion='entropy', max_depth=3, max_features='auto',\n",
       "            max_leaf_nodes=None, min_impurity_decrease=0.0,\n",
       "            min_impurity_split=None, min_samples_leaf=100,\n",
       "            min_samples_split=2, min_weight_fraction_leaf=0.0,\n",
       "            n_estimators=100, n_jobs=None, oob_score=True,\n",
       "            random_state=None, verbose=0, warm_start=False)"
      ]
     },
     "execution_count": 17,
     "metadata": {},
     "output_type": "execute_result"
    }
   ],
   "source": [
    "## classifying with the best parameters\n",
    "## consider loading trained model instead of training it again\n",
    "best_classifier.fit(X_train, y_train)"
   ]
  },
  {
   "cell_type": "code",
   "execution_count": 21,
   "metadata": {},
   "outputs": [],
   "source": [
    "## saving the trained model for later use\n",
    "model_filepath = 'output/model1.p'"
   ]
  },
  {
   "cell_type": "code",
   "execution_count": 22,
   "metadata": {},
   "outputs": [],
   "source": [
    "#pickle.dump(best_classifier, open(model_filepath, 'wb'))"
   ]
  },
  {
   "cell_type": "code",
   "execution_count": 23,
   "metadata": {},
   "outputs": [],
   "source": [
    "## let us load the model, so one does not have to do the computation again\n",
    "best_classifier = pickle.load( open( model_filepath, 'rb' ) )"
   ]
  },
  {
   "cell_type": "code",
   "execution_count": 24,
   "metadata": {},
   "outputs": [],
   "source": [
    "## using our trained model to make predictions\n",
    "y_pred = best_classifier.predict(X_test)"
   ]
  },
  {
   "cell_type": "code",
   "execution_count": 26,
   "metadata": {},
   "outputs": [
    {
     "name": "stderr",
     "output_type": "stream",
     "text": [
      "No handles with labels found to put in legend.\n"
     ]
    },
    {
     "data": {
      "image/png": "[encoded data removed]",
      "text/plain": [
       "<Figure size 432x288 with 1 Axes>"
      ]
     },
     "metadata": {},
     "output_type": "display_data"
    }
   ],
   "source": [
    "## The importance of the features\n",
    "\n",
    "feature_imp = pd.Series(best_classifier.feature_importances_,index=X.columns)\n",
    "feature_imp\n",
    "import matplotlib.pyplot as plt\n",
    "import seaborn as sns\n",
    "#%matplotlib inline\n",
    "# Creating a bar plot\n",
    "sns.barplot(x=feature_imp, y=feature_imp.index)\n",
    "# Add labels to your graph\n",
    "plt.xlabel('Feature Importance Score')\n",
    "plt.ylabel('Features')\n",
    "plt.title(\"Visualizing Important Features\")\n",
    "plt.legend()\n",
    "plt.show()"
   ]
  },
  {
   "cell_type": "code",
   "execution_count": 27,
   "metadata": {},
   "outputs": [
    {
     "data": {
      "image/png": "[encoded data removed]",
      "text/plain": [
       "<Figure size 432x288 with 1 Axes>"
      ]
     },
     "metadata": {},
     "output_type": "display_data"
    }
   ],
   "source": [
    "### model1 ROC\n",
    "\n",
    "false_positive_rate, true_positive_rate, thresholds = roc_curve(y_test['LateAircraftDelay'], y_pred)\n",
    "roc_auc = auc(false_positive_rate, true_positive_rate)\n",
    "\n",
    "plt.title('Receiver Operating Characteristic')\n",
    "plt.plot(false_positive_rate, true_positive_rate, 'b', label=\"model's_AUC = %0.2f\"% roc_auc)\n",
    "plt.legend(loc='lower right')\n",
    "plt.plot([0,1],[0,1],'r:', linewidth=7)\n",
    "plt.xlim([-0.1,1.1])\n",
    "plt.ylim([-0.1,1.1])\n",
    "plt.ylabel('True Positive Rate')\n",
    "plt.xlabel('False Positive Rate')\n",
    "\n",
    "\n",
    "\n",
    "### random guess ROC\n",
    "\n",
    "false_positive_rate, true_positive_rate, thresholds = roc_curve(y_test['random'], y_pred)\n",
    "roc_auc = auc(false_positive_rate, true_positive_rate)\n",
    "\n",
    "plt.title('Receiver Operating Characteristic')\n",
    "plt.plot(false_positive_rate, true_positive_rate, 'green', label='random_AUC = %0.2f'% roc_auc)\n",
    "plt.legend(loc='lower right')\n",
    "\n",
    "\n",
    "plt.show()"
   ]
  },
  {
   "cell_type": "code",
   "execution_count": 28,
   "metadata": {},
   "outputs": [
    {
     "name": "stdout",
     "output_type": "stream",
     "text": [
      "              precision    recall  f1-score   support\n",
      "\n",
      "       False       0.98      0.89      0.93   1992016\n",
      "        True       0.46      0.84      0.59    222638\n",
      "\n",
      "   micro avg       0.89      0.89      0.89   2214654\n",
      "   macro avg       0.72      0.86      0.76   2214654\n",
      "weighted avg       0.93      0.89      0.90   2214654\n",
      "\n"
     ]
    }
   ],
   "source": [
    "## classification report for model1\n",
    "print (classification_report(y_test['LateAircraftDelay'], y_pred) )"
   ]
  },
  {
   "cell_type": "code",
   "execution_count": 29,
   "metadata": {},
   "outputs": [
    {
     "name": "stdout",
     "output_type": "stream",
     "text": [
      "              precision    recall  f1-score   support\n",
      "\n",
      "           0       0.90      0.82      0.86   1992131\n",
      "           1       0.10      0.18      0.13    222523\n",
      "\n",
      "   micro avg       0.75      0.75      0.75   2214654\n",
      "   macro avg       0.50      0.50      0.49   2214654\n",
      "weighted avg       0.82      0.75      0.78   2214654\n",
      "\n"
     ]
    }
   ],
   "source": [
    "## for comparison we compute a classification report for a random guess\n",
    "print (classification_report(y_test['random'], y_pred) )"
   ]
  },
  {
   "cell_type": "code",
   "execution_count": 30,
   "metadata": {},
   "outputs": [
    {
     "name": "stdout",
     "output_type": "stream",
     "text": [
      "[[1774962  217054]\n",
      " [  36596  186042]]\n"
     ]
    }
   ],
   "source": [
    "## the confusion matrix for the model ...\n",
    "print (confusion_matrix(y_test['LateAircraftDelay'], y_pred) )"
   ]
  },
  {
   "cell_type": "code",
   "execution_count": 31,
   "metadata": {},
   "outputs": [
    {
     "name": "stdout",
     "output_type": "stream",
     "text": [
      "[[1629477  362654]\n",
      " [ 182081   40442]]\n"
     ]
    }
   ],
   "source": [
    "## ... and the confusion matrix for the random guess\n",
    "print (confusion_matrix(y_test['random'], y_pred) )"
   ]
  },
  {
   "cell_type": "code",
   "execution_count": null,
   "metadata": {},
   "outputs": [],
   "source": []
  },
  {
   "cell_type": "code",
   "execution_count": null,
   "metadata": {},
   "outputs": [],
   "source": []
  },
  {
   "cell_type": "code",
   "execution_count": null,
   "metadata": {},
   "outputs": [],
   "source": []
  }
 ],
 "metadata": {
  "kernelspec": {
   "display_name": "Python 3",
   "language": "python",
   "name": "python3"
  },
  "language_info": {
   "codemirror_mode": {
    "name": "ipython",
    "version": 3
   },
   "file_extension": ".py",
   "mimetype": "text/x-python",
   "name": "python",
   "nbconvert_exporter": "python",
   "pygments_lexer": "ipython3",
   "version": "3.7.3"
  }
 },
 "nbformat": 4,
 "nbformat_minor": 2
}
