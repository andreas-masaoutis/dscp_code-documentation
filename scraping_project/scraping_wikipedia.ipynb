{
 "cells": [
  {
   "cell_type": "markdown",
   "metadata": {},
   "source": [
    "## Welcome to this mini project on web scraping and text analysis"
   ]
  },
  {
   "cell_type": "markdown",
   "metadata": {},
   "source": [
    "#### We first import the main libraries that we are going to need"
   ]
  },
  {
   "cell_type": "code",
   "execution_count": 1,
   "metadata": {},
   "outputs": [],
   "source": [
    "## TinyDB! is the document database storage we use to store the scraped data. \n",
    "import tinydb\n",
    "from tinydb import TinyDB, Query\n",
    "\n",
    "## Scrapy is our tool for web scraping\n",
    "import scrapy\n",
    "\n",
    "## Pandas is the main tool for handling data\n",
    "import pandas as pd\n",
    "\n",
    "## NumPy is the lower level numerical computation package\n",
    "import numpy as np\n",
    "\n",
    "## MatPlotLib is used for all the plotting \n",
    "import matplotlib as mpl\n",
    "import matplotlib.pyplot as plt\n",
    "## the styles change the way plots look like. Check for the rest of available styles\n",
    "plt.style.use('ggplot')\n",
    "\n",
    "## NLTK is the main tool to process textual data\n",
    "import nltk\n",
    "\n",
    "## regex operations are important in filtering text\n",
    "import re\n",
    "\n",
    "\n",
    "## SciPy has the implementation of the algorithms we want for our modelling\n",
    "import scipy as sc\n",
    "\n",
    "## We want to ignore warnings for the time being\n",
    "import warnings\n",
    "warnings.filterwarnings('ignore')\n"
   ]
  },
  {
   "cell_type": "code",
   "execution_count": null,
   "metadata": {},
   "outputs": [],
   "source": []
  },
  {
   "cell_type": "code",
   "execution_count": 2,
   "metadata": {},
   "outputs": [
    {
     "name": "stdout",
     "output_type": "stream",
     "text": [
      "software used and its version \n",
      "  Python 3.7.3 \n",
      "  Scrapy 1.6.0 \n",
      "  tinydb 3.14.1 \n",
      "  pandas 0.24.2 \n",
      "  numpy 1.16.2 \n",
      "  matplotlib 3.0.3 \n",
      "  nltk 3.4 \n",
      "  scipy 1.2.1\n"
     ]
    }
   ],
   "source": [
    "\n",
    "from platform import python_version\n",
    "print (\n",
    "    'software used and its version',\n",
    "    '\\n  Python', python_version(),\n",
    "    '\\n  Scrapy', scrapy.__version__,\n",
    "    '\\n  tinydb', tinydb.__version__,\n",
    "    '\\n  pandas', pd.__version__,\n",
    "    '\\n  numpy', np.__version__,\n",
    "    '\\n  matplotlib', mpl.__version__,\n",
    "    '\\n  nltk', nltk.__version__,\n",
    "    '\\n  scipy', sc.__version__,\n",
    "    \n",
    ")"
   ]
  },
  {
   "cell_type": "code",
   "execution_count": null,
   "metadata": {},
   "outputs": [],
   "source": []
  },
  {
   "cell_type": "code",
   "execution_count": 3,
   "metadata": {},
   "outputs": [],
   "source": [
    "## Let us take a quick look at our spiders\n",
    "## With %%bash we get access to a virtual bash terminal, \n",
    "## and we get access to everything on the file system\n",
    "## With cat we can take a look inside our spider"
   ]
  },
  {
   "cell_type": "code",
   "execution_count": 4,
   "metadata": {},
   "outputs": [
    {
     "name": "stdout",
     "output_type": "stream",
     "text": [
      "import scrapy\n",
      "from ..items import ScrapingWikipediaItem\n",
      "\n",
      "class ScrapingWikipedia(scrapy.Spider):\n",
      "    name = 'my_wikipedia'\n",
      "    start_urls = ['https://en.wikipedia.org/wiki/List_of_companies_of_Italy']\n",
      "    # name and start_url are expected by scrapy.Spider and should not be changed\n",
      "\n",
      "    def parse(self, response):\n",
      "\n",
      "        \n",
      "        items = ScrapingWikipediaItem()\n",
      "        \n",
      "        ## the table we want is the second in the whole page\n",
      "        ## the table contains tr elements - table rows\n",
      "        table = response.xpath(\"//table[2]\").css(\"tr\")\n",
      "        \n",
      "        \n",
      "        ## we filter out the first row that contains the header\n",
      "        for row in table[1:]: \n",
      "            ## we iterate over the rows, and pick the elements we want,\n",
      "            ## we put them in a list, and send them to the database\n",
      "            list_to_insert = []\n",
      "\n",
      "            ## the name\n",
      "            list_to_insert.append(row.xpath(\"td[1]//text()\").get() )\n",
      "\n",
      "            ## the wiki url\n",
      "            list_to_insert.append( \"https://en.wikipedia.org\" + \\\n",
      "                row.xpath(\"td[1]/a/@href\").get() )\n",
      "\n",
      "            ## the industry\n",
      "            list_to_insert.append(row.xpath(\"td[2]/text()\").get().strip(\"\\n\") )\n",
      "\n",
      "            ## the sector\n",
      "            list_to_insert.append(row.xpath(\"td[3]/text()\").get().strip(\"\\n\") )\n",
      "\n",
      "            ## the headquarters\n",
      "            list_to_insert.append(row.xpath(\"td[4]/a/text()\").get().strip(\"\\n\") )            \n",
      "\n",
      "            ## founded in\n",
      "            list_to_insert.append(row.xpath(\"td[5]/text()\").get().strip(\"\\n\") ) \n",
      "            \n",
      "            \n",
      "            items['row'] = list_to_insert\n",
      "            \n",
      "            yield items\n",
      "            \n",
      "            \n"
     ]
    }
   ],
   "source": [
    "%%bash\n",
    "cd wikipedia1/scraping_wikipedia/spiders\n",
    "cat my_wikipedia_spider.py"
   ]
  },
  {
   "cell_type": "code",
   "execution_count": null,
   "metadata": {},
   "outputs": [],
   "source": []
  },
  {
   "cell_type": "markdown",
   "metadata": {},
   "source": [
    "#### In this section we finalise the construction of the dataset we want "
   ]
  },
  {
   "cell_type": "code",
   "execution_count": 5,
   "metadata": {},
   "outputs": [],
   "source": [
    "## The connections to the two databases\n",
    "\n",
    "wikipedia1_db = TinyDB('wikipedia1_db.json', sort_keys=True, \n",
    "            indent=4, separators=(',', ': '))\n",
    "\n",
    "wikipedia2_db = TinyDB('wikipedia2_db.json', sort_keys=True, \n",
    "            indent=4, separators=(',', ': '))"
   ]
  },
  {
   "cell_type": "code",
   "execution_count": 6,
   "metadata": {},
   "outputs": [
    {
     "data": {
      "text/plain": [
       "{'company_name': '55DSL',\n",
       " 'foundation_year': '1994',\n",
       " 'headquarters': 'Marostica',\n",
       " 'industry': 'Consumer goods',\n",
       " 'row': ['55DSL',\n",
       "  'https://en.wikipedia.org/wiki/55DSL',\n",
       "  'Consumer goods',\n",
       "  'Clothing & accessories',\n",
       "  'Marostica',\n",
       "  '1994'],\n",
       " 'sector': 'Clothing & accessories',\n",
       " 'text': '55DSL is a company founded in Italy as a 1994 spinoff from Diesel Clothing that sells male and female clothing in stores all around the world, including in the brand\\'s own proprietary stores. In the beginning 55DSL was an experimental line for Diesel. Its first collection was called \\'FW94, Subzero Winter\\' - a male collection consisting of 55 pieces in total. After 5 years operating under Diesel, the brand became an independent business unit, and moved from Italy to Balerna, Switzerland. Here it stayed for six years (until 2005), when it moved back again to Italy. The 55DSL brand was also the featured apparel of the characters in EA Sports Need for Speed: Carbon. The current Creative Director of 55DSL is Andrea Rosso, son of Diesel creator Renzo Rosso (born 1955).[1] 55DSL is a bridging brand between urban culture and fashion. The core market for the brand is late teens and twenty-something urban men and women. According to the brand website, the brand is there to appeal to fashion-minded, young people, interested or involved in active sports, who have a DIY attitude. The company\\'s mission (as stated on the company website) is to \"become the most famous fashion option in street-wear\". ',\n",
       " 'wikipedia_url': 'https://en.wikipedia.org/wiki/55DSL'}"
      ]
     },
     "execution_count": 6,
     "metadata": {},
     "output_type": "execute_result"
    }
   ],
   "source": [
    "## db.all() return a list with all the documents. \n",
    "## With the subscript [0] we get the first one\n",
    "\n",
    "## Our spider returned a list with all the data \n",
    "## for every row in the table of companies\n",
    "\n",
    "wikipedia1_db.all()[0]"
   ]
  },
  {
   "cell_type": "code",
   "execution_count": 7,
   "metadata": {},
   "outputs": [],
   "source": [
    "## We would like to split the list and assign each element to a key;\n",
    "## in this way we can easily access each attribute\n",
    "\n",
    "for doc in wikipedia1_db:\n",
    "    \n",
    "    to_update = { \n",
    "        'company_name' :  doc['row'][0],\n",
    "        \n",
    "        'wikipedia_url' :  ( doc['row'][1]),\n",
    "        \n",
    "        'industry' :  doc['row'][2],\n",
    "        \n",
    "        'sector' :  doc['row'][3],\n",
    "        \n",
    "        'headquarters' :  doc['row'][4],\n",
    "        \n",
    "        'foundation_year' :  doc['row'][5],\n",
    "        \n",
    "    }\n",
    "    \n",
    "    wikipedia1_db.update(to_update, doc_ids=[doc.doc_id])\n"
   ]
  },
  {
   "cell_type": "code",
   "execution_count": 8,
   "metadata": {},
   "outputs": [
    {
     "data": {
      "text/plain": [
       "{'company_name': '55DSL',\n",
       " 'foundation_year': '1994',\n",
       " 'headquarters': 'Marostica',\n",
       " 'industry': 'Consumer goods',\n",
       " 'row': ['55DSL',\n",
       "  'https://en.wikipedia.org/wiki/55DSL',\n",
       "  'Consumer goods',\n",
       "  'Clothing & accessories',\n",
       "  'Marostica',\n",
       "  '1994'],\n",
       " 'sector': 'Clothing & accessories',\n",
       " 'text': '55DSL is a company founded in Italy as a 1994 spinoff from Diesel Clothing that sells male and female clothing in stores all around the world, including in the brand\\'s own proprietary stores. In the beginning 55DSL was an experimental line for Diesel. Its first collection was called \\'FW94, Subzero Winter\\' - a male collection consisting of 55 pieces in total. After 5 years operating under Diesel, the brand became an independent business unit, and moved from Italy to Balerna, Switzerland. Here it stayed for six years (until 2005), when it moved back again to Italy. The 55DSL brand was also the featured apparel of the characters in EA Sports Need for Speed: Carbon. The current Creative Director of 55DSL is Andrea Rosso, son of Diesel creator Renzo Rosso (born 1955).[1] 55DSL is a bridging brand between urban culture and fashion. The core market for the brand is late teens and twenty-something urban men and women. According to the brand website, the brand is there to appeal to fashion-minded, young people, interested or involved in active sports, who have a DIY attitude. The company\\'s mission (as stated on the company website) is to \"become the most famous fashion option in street-wear\". ',\n",
       " 'wikipedia_url': 'https://en.wikipedia.org/wiki/55DSL'}"
      ]
     },
     "execution_count": 8,
     "metadata": {},
     "output_type": "execute_result"
    }
   ],
   "source": [
    "## We see that the documents have changed.\n",
    "## ebfore we had only one key - 'row', while now we have many more.\n",
    "\n",
    "wikipedia1_db.all()[0]"
   ]
  },
  {
   "cell_type": "code",
   "execution_count": 9,
   "metadata": {},
   "outputs": [
    {
     "data": {
      "text/plain": [
       "{'complete_text': ['https://en.wikipedia.org/wiki/55DSL',\n",
       "  '55DSL is a company founded in Italy as a 1994 spinoff from Diesel Clothing that sells male and female clothing in stores all around the world, including in the brand\\'s own proprietary stores. In the beginning 55DSL was an experimental line for Diesel. Its first collection was called \\'FW94, Subzero Winter\\' - a male collection consisting of 55 pieces in total. After 5 years operating under Diesel, the brand became an independent business unit, and moved from Italy to Balerna, Switzerland. Here it stayed for six years (until 2005), when it moved back again to Italy. The 55DSL brand was also the featured apparel of the characters in EA Sports Need for Speed: Carbon. The current Creative Director of 55DSL is Andrea Rosso, son of Diesel creator Renzo Rosso (born 1955).[1] 55DSL is a bridging brand between urban culture and fashion. The core market for the brand is late teens and twenty-something urban men and women. According to the brand website, the brand is there to appeal to fashion-minded, young people, interested or involved in active sports, who have a DIY attitude. The company\\'s mission (as stated on the company website) is to \"become the most famous fashion option in street-wear\". ']}"
      ]
     },
     "execution_count": 9,
     "metadata": {},
     "output_type": "execute_result"
    }
   ],
   "source": [
    "# What did spider2 brought along? The url and the corresponding text\n",
    "\n",
    "wikipedia2_db.all()[0]"
   ]
  },
  {
   "cell_type": "code",
   "execution_count": 10,
   "metadata": {},
   "outputs": [],
   "source": [
    "## Now, we get the wikipedia text for each company returned by the second spider,\n",
    "## and attach it to the rest of the data returned by the first spider. \n",
    "## In this way we have the dataset we want.\n",
    "\n",
    "## To achieve that we iterate over all documents of db2,\n",
    "## and for each db2 document we search db1 for a matching url;\n",
    "## whenever the urls match, we have the same company,\n",
    "## and we we add in db1 the text from db2.\n",
    "\n",
    "\n",
    "for doc in wikipedia2_db:\n",
    "    \n",
    "    to_update = {\n",
    "        \n",
    "        'text' :  ( doc['complete_text'][1])\n",
    "    }\n",
    "    \n",
    "    \n",
    "    wikipedia1_db.update(to_update, Query().wikipedia_url == doc['complete_text'][0])\n",
    "    \n"
   ]
  },
  {
   "cell_type": "code",
   "execution_count": 11,
   "metadata": {},
   "outputs": [
    {
     "data": {
      "text/plain": [
       "{'company_name': '55DSL',\n",
       " 'foundation_year': '1994',\n",
       " 'headquarters': 'Marostica',\n",
       " 'industry': 'Consumer goods',\n",
       " 'row': ['55DSL',\n",
       "  'https://en.wikipedia.org/wiki/55DSL',\n",
       "  'Consumer goods',\n",
       "  'Clothing & accessories',\n",
       "  'Marostica',\n",
       "  '1994'],\n",
       " 'sector': 'Clothing & accessories',\n",
       " 'text': '55DSL is a company founded in Italy as a 1994 spinoff from Diesel Clothing that sells male and female clothing in stores all around the world, including in the brand\\'s own proprietary stores. In the beginning 55DSL was an experimental line for Diesel. Its first collection was called \\'FW94, Subzero Winter\\' - a male collection consisting of 55 pieces in total. After 5 years operating under Diesel, the brand became an independent business unit, and moved from Italy to Balerna, Switzerland. Here it stayed for six years (until 2005), when it moved back again to Italy. The 55DSL brand was also the featured apparel of the characters in EA Sports Need for Speed: Carbon. The current Creative Director of 55DSL is Andrea Rosso, son of Diesel creator Renzo Rosso (born 1955).[1] 55DSL is a bridging brand between urban culture and fashion. The core market for the brand is late teens and twenty-something urban men and women. According to the brand website, the brand is there to appeal to fashion-minded, young people, interested or involved in active sports, who have a DIY attitude. The company\\'s mission (as stated on the company website) is to \"become the most famous fashion option in street-wear\". ',\n",
       " 'wikipedia_url': 'https://en.wikipedia.org/wiki/55DSL'}"
      ]
     },
     "execution_count": 11,
     "metadata": {},
     "output_type": "execute_result"
    }
   ],
   "source": [
    "## Now, every company's entry has also the scraped text.\n",
    "wikipedia1_db.all()[0]"
   ]
  },
  {
   "cell_type": "code",
   "execution_count": null,
   "metadata": {},
   "outputs": [],
   "source": []
  },
  {
   "cell_type": "markdown",
   "metadata": {},
   "source": [
    "#### From this point onward, starts the analysis of the data "
   ]
  },
  {
   "cell_type": "code",
   "execution_count": 12,
   "metadata": {},
   "outputs": [
    {
     "data": {
      "text/plain": [
       "[]"
      ]
     },
     "execution_count": 12,
     "metadata": {},
     "output_type": "execute_result"
    }
   ],
   "source": [
    "## No web page had the term 'Industry 4.0'. \n",
    "## Is it too early for the adoption of the term in communication, \n",
    "## or is 'Industry 4.0' absent from Italian firms?\n",
    "\n",
    "import re\n",
    "wikipedia1_db.search(Query().text.search('Industry 4.0', flags=re.IGNORECASE))"
   ]
  },
  {
   "cell_type": "code",
   "execution_count": 13,
   "metadata": {},
   "outputs": [
    {
     "name": "stdout",
     "output_type": "stream",
     "text": [
      "Enel\n"
     ]
    }
   ],
   "source": [
    "## There is only one reference of 'Internet of Things' too.\n",
    "\n",
    "for result in wikipedia1_db.search(Query().text.search( \n",
    "    'Internet of Things ', flags=re.IGNORECASE)):\n",
    "    \n",
    "    print(result['company_name'])"
   ]
  },
  {
   "cell_type": "code",
   "execution_count": null,
   "metadata": {},
   "outputs": [],
   "source": []
  },
  {
   "cell_type": "code",
   "execution_count": 14,
   "metadata": {},
   "outputs": [],
   "source": [
    "## In order to do more advanced analysis we want \n",
    "## to leverage the power of a dataframe.\n",
    "## Before we get there we have to make a little trick"
   ]
  },
  {
   "cell_type": "code",
   "execution_count": 15,
   "metadata": {},
   "outputs": [
    {
     "data": {
      "text/plain": [
       "dict"
      ]
     },
     "execution_count": 15,
     "metadata": {},
     "output_type": "execute_result"
    }
   ],
   "source": [
    "## First we load the json file into a Python dictionary\n",
    "\n",
    "import json\n",
    "\n",
    "with open(\"wikipedia1_db.json\") as f:\n",
    "    data = json.load(f)\n",
    "\n",
    "type(data)\n"
   ]
  },
  {
   "cell_type": "code",
   "execution_count": 16,
   "metadata": {},
   "outputs": [
    {
     "name": "stdout",
     "output_type": "stream",
     "text": [
      "_default\n"
     ]
    }
   ],
   "source": [
    "## Note that the dictionary seems to have only one key, _default.\n",
    "\n",
    "for key in data:\n",
    "    print(key)"
   ]
  },
  {
   "cell_type": "code",
   "execution_count": 17,
   "metadata": {},
   "outputs": [],
   "source": [
    "## The reason is the way TinyDB stores data. _default is \n",
    "## the name of the default \"table\" or document collection\n",
    "## where the data reside. data is a dictionary, \n",
    "## but data['_default'] is a dictionary too."
   ]
  },
  {
   "cell_type": "code",
   "execution_count": 18,
   "metadata": {},
   "outputs": [
    {
     "data": {
      "text/plain": [
       "{'company_name': '55DSL',\n",
       " 'foundation_year': '1994',\n",
       " 'headquarters': 'Marostica',\n",
       " 'industry': 'Consumer goods',\n",
       " 'row': ['55DSL',\n",
       "  'https://en.wikipedia.org/wiki/55DSL',\n",
       "  'Consumer goods',\n",
       "  'Clothing & accessories',\n",
       "  'Marostica',\n",
       "  '1994'],\n",
       " 'sector': 'Clothing & accessories',\n",
       " 'text': '55DSL is a company founded in Italy as a 1994 spinoff from Diesel Clothing that sells male and female clothing in stores all around the world, including in the brand\\'s own proprietary stores. In the beginning 55DSL was an experimental line for Diesel. Its first collection was called \\'FW94, Subzero Winter\\' - a male collection consisting of 55 pieces in total. After 5 years operating under Diesel, the brand became an independent business unit, and moved from Italy to Balerna, Switzerland. Here it stayed for six years (until 2005), when it moved back again to Italy. The 55DSL brand was also the featured apparel of the characters in EA Sports Need for Speed: Carbon. The current Creative Director of 55DSL is Andrea Rosso, son of Diesel creator Renzo Rosso (born 1955).[1] 55DSL is a bridging brand between urban culture and fashion. The core market for the brand is late teens and twenty-something urban men and women. According to the brand website, the brand is there to appeal to fashion-minded, young people, interested or involved in active sports, who have a DIY attitude. The company\\'s mission (as stated on the company website) is to \"become the most famous fashion option in street-wear\". ',\n",
       " 'wikipedia_url': 'https://en.wikipedia.org/wiki/55DSL'}"
      ]
     },
     "execution_count": 18,
     "metadata": {},
     "output_type": "execute_result"
    }
   ],
   "source": [
    "## This is the data we were seeing before when we were quering the database\n",
    "data['_default']['1']"
   ]
  },
  {
   "cell_type": "code",
   "execution_count": 19,
   "metadata": {},
   "outputs": [],
   "source": [
    "## Now we can load the dictionary into a dataframe, \n",
    "## where each dictionary key, is a column\n",
    "scraped_df = pd.DataFrame.from_dict( data['_default'], orient='index')  "
   ]
  },
  {
   "cell_type": "code",
   "execution_count": 20,
   "metadata": {},
   "outputs": [],
   "source": [
    "## We drop the 'row', that has the initial data we do not need right now\n",
    "scraped_df.drop('row', axis=1, inplace=True)"
   ]
  },
  {
   "cell_type": "code",
   "execution_count": 21,
   "metadata": {},
   "outputs": [],
   "source": [
    "## Two firms had a ? sign instead of a foundation year,\n",
    "## while the rest had four digit strings. \n",
    "## We convert the ? to 0, and everything else to integers\n",
    "\n",
    "scraped_df.foundation_year = scraped_df.foundation_year.apply(\n",
    "    lambda x: int(x) if len(x) == 4  else 0)"
   ]
  },
  {
   "cell_type": "code",
   "execution_count": 22,
   "metadata": {
    "scrolled": true
   },
   "outputs": [
    {
     "data": {
      "text/html": [
       "<div>\n",
       "<style scoped>\n",
       "    .dataframe tbody tr th:only-of-type {\n",
       "        vertical-align: middle;\n",
       "    }\n",
       "\n",
       "    .dataframe tbody tr th {\n",
       "        vertical-align: top;\n",
       "    }\n",
       "\n",
       "    .dataframe thead th {\n",
       "        text-align: right;\n",
       "    }\n",
       "</style>\n",
       "<table border=\"1\" class=\"dataframe\">\n",
       "  <thead>\n",
       "    <tr style=\"text-align: right;\">\n",
       "      <th></th>\n",
       "      <th>company_name</th>\n",
       "      <th>foundation_year</th>\n",
       "      <th>headquarters</th>\n",
       "      <th>industry</th>\n",
       "      <th>sector</th>\n",
       "      <th>text</th>\n",
       "      <th>wikipedia_url</th>\n",
       "    </tr>\n",
       "  </thead>\n",
       "  <tbody>\n",
       "    <tr>\n",
       "      <th>1</th>\n",
       "      <td>55DSL</td>\n",
       "      <td>1994</td>\n",
       "      <td>Marostica</td>\n",
       "      <td>Consumer goods</td>\n",
       "      <td>Clothing &amp; accessories</td>\n",
       "      <td>55DSL is a company founded in Italy as a 1994 ...</td>\n",
       "      <td>https://en.wikipedia.org/wiki/55DSL</td>\n",
       "    </tr>\n",
       "    <tr>\n",
       "      <th>10</th>\n",
       "      <td>AGV</td>\n",
       "      <td>1946</td>\n",
       "      <td>Alessandria</td>\n",
       "      <td>Consumer goods</td>\n",
       "      <td>Auto parts</td>\n",
       "      <td>AGV is an Italian motorcycle helmet manufactur...</td>\n",
       "      <td>https://en.wikipedia.org/wiki/AGV_(helmet_manu...</td>\n",
       "    </tr>\n",
       "    <tr>\n",
       "      <th>100</th>\n",
       "      <td>Carrozzeria Marazzi</td>\n",
       "      <td>1967</td>\n",
       "      <td>Milan</td>\n",
       "      <td>Consumer goods</td>\n",
       "      <td>Automobiles</td>\n",
       "      <td>Carrozzeria Marazzi is an Italian coachbuildin...</td>\n",
       "      <td>https://en.wikipedia.org/wiki/Carrozzeria_Marazzi</td>\n",
       "    </tr>\n",
       "    <tr>\n",
       "      <th>101</th>\n",
       "      <td>Carrozzeria Scaglietti</td>\n",
       "      <td>1951</td>\n",
       "      <td>Modena</td>\n",
       "      <td>Consumer goods</td>\n",
       "      <td>Automobiles</td>\n",
       "      <td>Carrozzeria Scaglietti (Italian pronunciation:...</td>\n",
       "      <td>https://en.wikipedia.org/wiki/Carrozzeria_Scag...</td>\n",
       "    </tr>\n",
       "    <tr>\n",
       "      <th>102</th>\n",
       "      <td>Carrozzeria Touring</td>\n",
       "      <td>1926</td>\n",
       "      <td>Milan</td>\n",
       "      <td>Consumer goods</td>\n",
       "      <td>Automobiles</td>\n",
       "      <td>Carrozzeria Touring Superleggera is an Italian...</td>\n",
       "      <td>https://en.wikipedia.org/wiki/Carrozzeria_Touring</td>\n",
       "    </tr>\n",
       "  </tbody>\n",
       "</table>\n",
       "</div>"
      ],
      "text/plain": [
       "               company_name  foundation_year headquarters        industry  \\\n",
       "1                     55DSL             1994    Marostica  Consumer goods   \n",
       "10                      AGV             1946  Alessandria  Consumer goods   \n",
       "100     Carrozzeria Marazzi             1967        Milan  Consumer goods   \n",
       "101  Carrozzeria Scaglietti             1951       Modena  Consumer goods   \n",
       "102     Carrozzeria Touring             1926        Milan  Consumer goods   \n",
       "\n",
       "                     sector  \\\n",
       "1    Clothing & accessories   \n",
       "10               Auto parts   \n",
       "100             Automobiles   \n",
       "101             Automobiles   \n",
       "102             Automobiles   \n",
       "\n",
       "                                                  text  \\\n",
       "1    55DSL is a company founded in Italy as a 1994 ...   \n",
       "10   AGV is an Italian motorcycle helmet manufactur...   \n",
       "100  Carrozzeria Marazzi is an Italian coachbuildin...   \n",
       "101  Carrozzeria Scaglietti (Italian pronunciation:...   \n",
       "102  Carrozzeria Touring Superleggera is an Italian...   \n",
       "\n",
       "                                         wikipedia_url  \n",
       "1                  https://en.wikipedia.org/wiki/55DSL  \n",
       "10   https://en.wikipedia.org/wiki/AGV_(helmet_manu...  \n",
       "100  https://en.wikipedia.org/wiki/Carrozzeria_Marazzi  \n",
       "101  https://en.wikipedia.org/wiki/Carrozzeria_Scag...  \n",
       "102  https://en.wikipedia.org/wiki/Carrozzeria_Touring  "
      ]
     },
     "execution_count": 22,
     "metadata": {},
     "output_type": "execute_result"
    }
   ],
   "source": [
    "## This is our dataframe\n",
    "scraped_df.head()"
   ]
  },
  {
   "cell_type": "code",
   "execution_count": null,
   "metadata": {},
   "outputs": [],
   "source": []
  },
  {
   "cell_type": "markdown",
   "metadata": {},
   "source": [
    "#### Now we can use the dataframe for some easy plotting and data exploration"
   ]
  },
  {
   "cell_type": "code",
   "execution_count": 23,
   "metadata": {},
   "outputs": [
    {
     "data": {
      "text/html": [
       "<div>\n",
       "<style scoped>\n",
       "    .dataframe tbody tr th:only-of-type {\n",
       "        vertical-align: middle;\n",
       "    }\n",
       "\n",
       "    .dataframe tbody tr th {\n",
       "        vertical-align: top;\n",
       "    }\n",
       "\n",
       "    .dataframe thead th {\n",
       "        text-align: right;\n",
       "    }\n",
       "</style>\n",
       "<table border=\"1\" class=\"dataframe\">\n",
       "  <thead>\n",
       "    <tr style=\"text-align: right;\">\n",
       "      <th></th>\n",
       "      <th>company_name</th>\n",
       "      <th>foundation_year</th>\n",
       "      <th>headquarters</th>\n",
       "      <th>industry</th>\n",
       "      <th>sector</th>\n",
       "      <th>text</th>\n",
       "      <th>wikipedia_url</th>\n",
       "    </tr>\n",
       "  </thead>\n",
       "  <tbody>\n",
       "    <tr>\n",
       "      <th>117</th>\n",
       "      <td>Comus S.p.A.</td>\n",
       "      <td>0</td>\n",
       "      <td>Ancona</td>\n",
       "      <td>Consumer goods</td>\n",
       "      <td>Recreational products</td>\n",
       "      <td>Comus S.p.A. is an Italian musical instrument ...</td>\n",
       "      <td>https://en.wikipedia.org/wiki/Comus_S.p.A.</td>\n",
       "    </tr>\n",
       "    <tr>\n",
       "      <th>269</th>\n",
       "      <td>Moto Rumi</td>\n",
       "      <td>0</td>\n",
       "      <td>Bergamo</td>\n",
       "      <td>Consumer goods</td>\n",
       "      <td>Automobiles</td>\n",
       "      <td>The Moto Rumi organisation was formed at the ...</td>\n",
       "      <td>https://en.wikipedia.org/wiki/Moto_Rumi</td>\n",
       "    </tr>\n",
       "    <tr>\n",
       "      <th>41</th>\n",
       "      <td>Banca Carige</td>\n",
       "      <td>1483</td>\n",
       "      <td>Genoa</td>\n",
       "      <td>Financials</td>\n",
       "      <td>Banks</td>\n",
       "      <td>Banca Carige S.p.A., historically known as Ca...</td>\n",
       "      <td>https://en.wikipedia.org/wiki/Banca_Carige</td>\n",
       "    </tr>\n",
       "    <tr>\n",
       "      <th>42</th>\n",
       "      <td>Banca Monte dei Paschi di Siena</td>\n",
       "      <td>1472</td>\n",
       "      <td>Siena</td>\n",
       "      <td>Financials</td>\n",
       "      <td>Banks</td>\n",
       "      <td>Banca Monte dei Paschi di Siena S.p.A. (Itali...</td>\n",
       "      <td>https://en.wikipedia.org/wiki/Banca_Monte_dei_...</td>\n",
       "    </tr>\n",
       "    <tr>\n",
       "      <th>54</th>\n",
       "      <td>Beretta</td>\n",
       "      <td>1526</td>\n",
       "      <td>Brescia</td>\n",
       "      <td>Industrials</td>\n",
       "      <td>Defense</td>\n",
       "      <td>Fabbrica d'Armi Pietro Beretta (Italian pronun...</td>\n",
       "      <td>https://en.wikipedia.org/wiki/Beretta</td>\n",
       "    </tr>\n",
       "  </tbody>\n",
       "</table>\n",
       "</div>"
      ],
      "text/plain": [
       "                        company_name  foundation_year headquarters  \\\n",
       "117                     Comus S.p.A.                0       Ancona   \n",
       "269                        Moto Rumi                0      Bergamo   \n",
       "41                      Banca Carige             1483        Genoa   \n",
       "42   Banca Monte dei Paschi di Siena             1472        Siena   \n",
       "54                           Beretta             1526      Brescia   \n",
       "\n",
       "           industry                 sector  \\\n",
       "117  Consumer goods  Recreational products   \n",
       "269  Consumer goods            Automobiles   \n",
       "41       Financials                  Banks   \n",
       "42       Financials                  Banks   \n",
       "54      Industrials                Defense   \n",
       "\n",
       "                                                  text  \\\n",
       "117  Comus S.p.A. is an Italian musical instrument ...   \n",
       "269   The Moto Rumi organisation was formed at the ...   \n",
       "41    Banca Carige S.p.A., historically known as Ca...   \n",
       "42    Banca Monte dei Paschi di Siena S.p.A. (Itali...   \n",
       "54   Fabbrica d'Armi Pietro Beretta (Italian pronun...   \n",
       "\n",
       "                                         wikipedia_url  \n",
       "117         https://en.wikipedia.org/wiki/Comus_S.p.A.  \n",
       "269            https://en.wikipedia.org/wiki/Moto_Rumi  \n",
       "41          https://en.wikipedia.org/wiki/Banca_Carige  \n",
       "42   https://en.wikipedia.org/wiki/Banca_Monte_dei_...  \n",
       "54               https://en.wikipedia.org/wiki/Beretta  "
      ]
     },
     "execution_count": 23,
     "metadata": {},
     "output_type": "execute_result"
    }
   ],
   "source": [
    "## There are a couple of outliers with the foundation year way \n",
    "## below the rest. The two 0's are the substituted ?\n",
    "\n",
    "selection = scraped_df[scraped_df.foundation_year < 1700]\n",
    "selection"
   ]
  },
  {
   "cell_type": "code",
   "execution_count": 24,
   "metadata": {},
   "outputs": [
    {
     "data": {
      "image/png": "[encoded data removed]",
      "text/plain": [
       "<Figure size 720x360 with 1 Axes>"
      ]
     },
     "metadata": {
      "needs_background": "light"
     },
     "output_type": "display_data"
    }
   ],
   "source": [
    "## For the rest of the firms, this the histogram of foundation years\n",
    "\n",
    "selection = scraped_df[scraped_df.foundation_year > 1750]\n",
    "\n",
    "selection.foundation_year.plot(kind='hist', \n",
    "                               bins=265, \n",
    "                               rot=45,  \n",
    "                               figsize=(10,5), \n",
    "                               title='Number of Firms founded in Italy, per year')\n",
    "\n",
    "ax = plt.gca()\n",
    "max_value = selection.foundation_year.max()\n",
    "min_value = 1750\n",
    "number_of_steps = 10\n",
    "l = np.arange(min_value, max_value+1, number_of_steps)\n",
    "ax.set(xticks=l, xticklabels=l)\n",
    "## save figure to be used in the presentation\n",
    "plt.savefig('../presentation/figures/foundation_years.png', dpi=200)\n",
    "plt.show()\n"
   ]
  },
  {
   "cell_type": "code",
   "execution_count": null,
   "metadata": {},
   "outputs": [],
   "source": []
  },
  {
   "cell_type": "code",
   "execution_count": 25,
   "metadata": {},
   "outputs": [],
   "source": [
    "## Let us now see how firms are distributed in across industries"
   ]
  },
  {
   "cell_type": "code",
   "execution_count": 26,
   "metadata": {},
   "outputs": [
    {
     "data": {
      "image/png": "[encoded data removed]",
      "text/plain": [
       "<Figure size 720x360 with 1 Axes>"
      ]
     },
     "metadata": {
      "needs_background": "light"
     },
     "output_type": "display_data"
    }
   ],
   "source": [
    "\n",
    "scraped_df.groupby('industry').text.agg({'number_of_firms' : 'count' }).sort_values(\n",
    "    by='number_of_firms', ascending=False).plot(rot=20,\n",
    "    yticks = range(0,275,25),\n",
    "    ls = 'None',\n",
    "    marker = 'o',\n",
    "    legend = False,\n",
    "    figsize=(10,5),\n",
    "    title='Number of firms in Italy, per industry')\n",
    "\n",
    "## save figure to be used in the presentation\n",
    "plt.savefig('../presentation/figures/per_industry.png', dpi=200)"
   ]
  },
  {
   "cell_type": "code",
   "execution_count": 27,
   "metadata": {},
   "outputs": [
    {
     "data": {
      "image/png": "[encoded data removed]",
      "text/plain": [
       "<Figure size 1080x720 with 1 Axes>"
      ]
     },
     "metadata": {
      "needs_background": "light"
     },
     "output_type": "display_data"
    }
   ],
   "source": [
    "## The distribution of firms across sectors for the 10 largest sectors\n",
    "\n",
    "selection = scraped_df.groupby(\n",
    "    'sector').text.agg({'number_of_firms' : 'count' }).sort_values(\n",
    "    by='number_of_firms', ascending=False)[:10]\n",
    "\n",
    "\n",
    "selection.plot(\n",
    "            rot=10,\n",
    "            ls = 'None',\n",
    "            marker = 'o',\n",
    "            legend = False,\n",
    "            figsize=(15,10),\n",
    "            title='Number of firms in Italy, per sector for the 10 largest sectors')\n",
    "\n",
    "## save figure to be used in the presentation\n",
    "plt.savefig('../presentation/figures/per_sector.png', dpi=200) \n"
   ]
  },
  {
   "cell_type": "code",
   "execution_count": 28,
   "metadata": {},
   "outputs": [
    {
     "data": {
      "image/png": "[encoded data removed]",
      "text/plain": [
       "<Figure size 1080x720 with 1 Axes>"
      ]
     },
     "metadata": {
      "needs_background": "light"
     },
     "output_type": "display_data"
    }
   ],
   "source": [
    "## The distibution of firms across cities, for the 10 largest concentrations\n",
    "\n",
    "selection = scraped_df.groupby(\n",
    "    'headquarters').text.agg({'number_of_firms' : 'count' }).sort_values(\n",
    "    by='number_of_firms', ascending=False)[:10]\n",
    "\n",
    "\n",
    "selection.plot(\n",
    "            rot=10,\n",
    "            ls = 'None',\n",
    "            marker = 'o',\n",
    "            legend = False,\n",
    "            figsize=(10,5),\n",
    "            title='Number of firms in Italy, per city for the 10 largest concentrations')\n",
    "\n",
    "## save figure to be used in the presentation\n",
    "plt.savefig('../presentation/figures/per_city.png', dpi=200) "
   ]
  },
  {
   "cell_type": "code",
   "execution_count": null,
   "metadata": {},
   "outputs": [],
   "source": []
  },
  {
   "cell_type": "code",
   "execution_count": 29,
   "metadata": {},
   "outputs": [
    {
     "data": {
      "text/html": [
       "<div>\n",
       "<style scoped>\n",
       "    .dataframe tbody tr th:only-of-type {\n",
       "        vertical-align: middle;\n",
       "    }\n",
       "\n",
       "    .dataframe tbody tr th {\n",
       "        vertical-align: top;\n",
       "    }\n",
       "\n",
       "    .dataframe thead th {\n",
       "        text-align: right;\n",
       "    }\n",
       "</style>\n",
       "<table border=\"1\" class=\"dataframe\">\n",
       "  <thead>\n",
       "    <tr style=\"text-align: right;\">\n",
       "      <th>industry</th>\n",
       "      <th>Basic materials</th>\n",
       "      <th>Conglomerates</th>\n",
       "      <th>Consumer goods</th>\n",
       "      <th>Consumer services</th>\n",
       "      <th>Financials</th>\n",
       "      <th>Health care</th>\n",
       "      <th>Industrials</th>\n",
       "      <th>Oil &amp; gas</th>\n",
       "      <th>Utilities</th>\n",
       "    </tr>\n",
       "    <tr>\n",
       "      <th>headquarters</th>\n",
       "      <th></th>\n",
       "      <th></th>\n",
       "      <th></th>\n",
       "      <th></th>\n",
       "      <th></th>\n",
       "      <th></th>\n",
       "      <th></th>\n",
       "      <th></th>\n",
       "      <th></th>\n",
       "    </tr>\n",
       "  </thead>\n",
       "  <tbody>\n",
       "    <tr>\n",
       "      <th>Bologna</th>\n",
       "      <td>0</td>\n",
       "      <td>0</td>\n",
       "      <td>9</td>\n",
       "      <td>1</td>\n",
       "      <td>1</td>\n",
       "      <td>0</td>\n",
       "      <td>1</td>\n",
       "      <td>0</td>\n",
       "      <td>1</td>\n",
       "    </tr>\n",
       "    <tr>\n",
       "      <th>Milan</th>\n",
       "      <td>1</td>\n",
       "      <td>1</td>\n",
       "      <td>43</td>\n",
       "      <td>13</td>\n",
       "      <td>6</td>\n",
       "      <td>2</td>\n",
       "      <td>5</td>\n",
       "      <td>0</td>\n",
       "      <td>1</td>\n",
       "    </tr>\n",
       "    <tr>\n",
       "      <th>Rome</th>\n",
       "      <td>0</td>\n",
       "      <td>0</td>\n",
       "      <td>4</td>\n",
       "      <td>4</td>\n",
       "      <td>2</td>\n",
       "      <td>1</td>\n",
       "      <td>7</td>\n",
       "      <td>1</td>\n",
       "      <td>1</td>\n",
       "    </tr>\n",
       "    <tr>\n",
       "      <th>Turin</th>\n",
       "      <td>0</td>\n",
       "      <td>0</td>\n",
       "      <td>20</td>\n",
       "      <td>0</td>\n",
       "      <td>2</td>\n",
       "      <td>0</td>\n",
       "      <td>4</td>\n",
       "      <td>0</td>\n",
       "      <td>0</td>\n",
       "    </tr>\n",
       "  </tbody>\n",
       "</table>\n",
       "</div>"
      ],
      "text/plain": [
       "industry      Basic materials  Conglomerates  Consumer goods  \\\n",
       "headquarters                                                   \n",
       "Bologna                     0              0               9   \n",
       "Milan                       1              1              43   \n",
       "Rome                        0              0               4   \n",
       "Turin                       0              0              20   \n",
       "\n",
       "industry      Consumer services  Financials  Health care  Industrials  \\\n",
       "headquarters                                                            \n",
       "Bologna                       1           1            0            1   \n",
       "Milan                        13           6            2            5   \n",
       "Rome                          4           2            1            7   \n",
       "Turin                         0           2            0            4   \n",
       "\n",
       "industry      Oil & gas  Utilities  \n",
       "headquarters                        \n",
       "Bologna               0          1  \n",
       "Milan                 0          1  \n",
       "Rome                  1          1  \n",
       "Turin                 0          0  "
      ]
     },
     "execution_count": 29,
     "metadata": {},
     "output_type": "execute_result"
    }
   ],
   "source": [
    "## For the four cities with the most firms, \n",
    "## we give the break down to industries, for each city\n",
    "\n",
    "selection = scraped_df[scraped_df.headquarters.isin( \n",
    "    ['Milan', 'Turin', 'Rome', 'Bologna']) ]\n",
    "pd.crosstab(selection.headquarters, selection.industry)"
   ]
  },
  {
   "cell_type": "code",
   "execution_count": null,
   "metadata": {},
   "outputs": [],
   "source": []
  },
  {
   "cell_type": "markdown",
   "metadata": {},
   "source": [
    "#### Now it is time to move to the analysis of the text we have collected"
   ]
  },
  {
   "cell_type": "code",
   "execution_count": null,
   "metadata": {},
   "outputs": [],
   "source": []
  },
  {
   "cell_type": "code",
   "execution_count": 30,
   "metadata": {},
   "outputs": [
    {
     "data": {
      "text/plain": [
       "<matplotlib.axes._subplots.AxesSubplot at 0x7fd74b79c3c8>"
      ]
     },
     "execution_count": 30,
     "metadata": {},
     "output_type": "execute_result"
    },
    {
     "data": {
      "image/png": "[encoded data removed]",
      "text/plain": [
       "<Figure size 720x360 with 1 Axes>"
      ]
     },
     "metadata": {
      "needs_background": "light"
     },
     "output_type": "display_data"
    }
   ],
   "source": [
    "## We first have to notice that not all web pages has significant content\n",
    "scraped_df.text.apply(lambda x: len(x)).plot(\n",
    "    kind='hist', \n",
    "    bins=100,\n",
    "    figsize = (10,5),\n",
    "    title='Length of web page content, measured in characters')"
   ]
  },
  {
   "cell_type": "code",
   "execution_count": 31,
   "metadata": {},
   "outputs": [],
   "source": [
    "## We keep almost half of the observations; the half with the most text\n",
    "\n",
    "selection = scraped_df[scraped_df.text.apply(lambda x: len(x)) > 3000]"
   ]
  },
  {
   "cell_type": "code",
   "execution_count": null,
   "metadata": {},
   "outputs": [],
   "source": []
  },
  {
   "cell_type": "code",
   "execution_count": 32,
   "metadata": {},
   "outputs": [],
   "source": [
    "## We then create two lists, one with the text and another with the names of the firms.\n",
    "\n",
    "text_list = selection.text.to_list()\n",
    "name_list = selection.company_name.to_list()"
   ]
  },
  {
   "cell_type": "code",
   "execution_count": 33,
   "metadata": {},
   "outputs": [
    {
     "data": {
      "text/plain": [
       "'Carrozzeria Ghia'"
      ]
     },
     "execution_count": 33,
     "metadata": {},
     "output_type": "execute_result"
    }
   ],
   "source": [
    "name_list[-1]"
   ]
  },
  {
   "cell_type": "code",
   "execution_count": 34,
   "metadata": {},
   "outputs": [
    {
     "data": {
      "text/plain": [
       "'Carrozzeria Ghia SpA (established 1916 in Turin) is an Italian automobile design and coachbuilding f'"
      ]
     },
     "execution_count": 34,
     "metadata": {},
     "output_type": "execute_result"
    }
   ],
   "source": [
    "text_list[-1][:100]"
   ]
  },
  {
   "cell_type": "code",
   "execution_count": null,
   "metadata": {},
   "outputs": [],
   "source": []
  },
  {
   "cell_type": "code",
   "execution_count": 35,
   "metadata": {},
   "outputs": [],
   "source": [
    "## Now we get to an important part of the process. \n",
    "## We transform the text into numerical vectors.\n",
    "## We remove simple common words that do not carry meaning,\n",
    "## and trim the rest to their stems"
   ]
  },
  {
   "cell_type": "code",
   "execution_count": 36,
   "metadata": {},
   "outputs": [
    {
     "name": "stdout",
     "output_type": "stream",
     "text": [
      "['i', 'me', 'my', 'myself', 'we', 'our', 'ours', 'ourselves', 'you', \"you're\"]\n"
     ]
    }
   ],
   "source": [
    "# load nltk's stopwords : a, and, the, etc.\n",
    "stopwords = nltk.corpus.stopwords.words('english')\n",
    "print (stopwords[:10])"
   ]
  },
  {
   "cell_type": "code",
   "execution_count": 37,
   "metadata": {},
   "outputs": [],
   "source": [
    "# then load the stemmer\n",
    "from nltk.stem.snowball import SnowballStemmer\n",
    "stemmer = SnowballStemmer(\"english\")"
   ]
  },
  {
   "cell_type": "code",
   "execution_count": 38,
   "metadata": {},
   "outputs": [],
   "source": [
    "# here we define a tokenizer and stemmer which returns \n",
    "## the set of stems in the text that it is passed\n",
    "\n",
    "def tokenize_and_stem(text):\n",
    "    ## first tokenize by sentence, then by word to ensure \n",
    "    ## that punctuation is caught as it's own token\n",
    "    tokens = [word for sent in nltk.sent_tokenize(text) for word in nltk.word_tokenize(sent)]\n",
    "    filtered_tokens = []\n",
    "    ## filter out any tokens not containing letters \n",
    "    ## (e.g., numeric tokens, raw punctuation)\n",
    "    for token in tokens:\n",
    "        if re.search('[a-zA-Z]', token):\n",
    "            filtered_tokens.append(token)\n",
    "    stems = [stemmer.stem(t) for t in filtered_tokens]\n",
    "    return stems"
   ]
  },
  {
   "cell_type": "code",
   "execution_count": 39,
   "metadata": {},
   "outputs": [
    {
     "name": "stdout",
     "output_type": "stream",
     "text": [
      "CPU times: user 21.9 s, sys: 124 ms, total: 22 s\n",
      "Wall time: 22.2 s\n",
      "(172, 344)\n"
     ]
    }
   ],
   "source": [
    "## tf_idf is the way in which we transform the text into numerical features. \n",
    "## The rows of the matrix represent documents, while the columns represent\n",
    "## the words that remained after tokenising and stemming. Each word might \n",
    "## show up in mulitple documents, and has a different tfidf value each time.\n",
    "\n",
    "from sklearn.feature_extraction.text import TfidfVectorizer\n",
    "\n",
    "#define vectorizer parameters\n",
    "tfidf_vectorizer = TfidfVectorizer(max_df=0.8, max_features=200000,\n",
    "                                 min_df=0.2, stop_words='english',\n",
    "                                 use_idf=True, tokenizer=tokenize_and_stem, ngram_range=(1,3))\n",
    "\n",
    "%time tfidf_matrix = tfidf_vectorizer.fit_transform(text_list) #fit the vectorizer to synopses\n",
    "\n",
    "print(tfidf_matrix.shape)"
   ]
  },
  {
   "cell_type": "code",
   "execution_count": null,
   "metadata": {},
   "outputs": [],
   "source": []
  },
  {
   "cell_type": "code",
   "execution_count": 40,
   "metadata": {},
   "outputs": [],
   "source": [
    "## The tfidf_matrix represents each document as a vector \n",
    "## in the vector space of all the words in our corpus of documents\n",
    "## Then it is straight forward to compute the distance between documents, \n",
    "## using the available distance metrics. The dist is a square matrix, \n",
    "## implemented as a numpy.ndarray.\n",
    "\n",
    "from sklearn.metrics.pairwise import cosine_similarity\n",
    "dist = 1 - cosine_similarity(tfidf_matrix)"
   ]
  },
  {
   "cell_type": "code",
   "execution_count": null,
   "metadata": {},
   "outputs": [],
   "source": []
  },
  {
   "cell_type": "code",
   "execution_count": 41,
   "metadata": {},
   "outputs": [
    {
     "data": {
      "image/png": "[encoded data removed]",
      "text/plain": [
       "<Figure size 720x1440 with 1 Axes>"
      ]
     },
     "metadata": {
      "needs_background": "light"
     },
     "output_type": "display_data"
    }
   ],
   "source": [
    "## Once we have the distances we can use an algorithm to create clusters. \n",
    "## The one used here is anglomerative, that is, each document starts on its own \n",
    "## and then it is united with its closer neighbour, forming a new group, \n",
    "## which is in turn united with other groups, until all fall under the same cluster.\n",
    "\n",
    "from scipy.cluster.hierarchy import ward, dendrogram\n",
    "\n",
    "## define the linkage_matrix using ward clustering pre-computed distances\n",
    "linkage_matrix = ward(dist) \n",
    "\n",
    "fig, ax = plt.subplots(figsize=(10, 20)) # set size\n",
    "ax = dendrogram(linkage_matrix, orientation=\"right\", labels=name_list);\n",
    "\n",
    "plt.tick_params(\\\n",
    "    axis= 'x',          # changes apply to the x-axis\n",
    "    which='both',      # both major and minor ticks are affected\n",
    "    bottom='off',      # ticks along the bottom edge are off\n",
    "    top='off',         # ticks along the top edge are off\n",
    "    labelbottom='off')\n",
    "\n",
    "plt.tight_layout() #show plot with tight layout\n",
    "\n",
    "#uncomment below to save figure\n",
    "plt.savefig('ward_clusters.png', dpi=200) #save figure as ward_clusters"
   ]
  },
  {
   "cell_type": "code",
   "execution_count": null,
   "metadata": {},
   "outputs": [],
   "source": []
  },
  {
   "cell_type": "code",
   "execution_count": 42,
   "metadata": {},
   "outputs": [],
   "source": [
    "## We would like to see how the clustering went. \n",
    "## The cut_tree method cuts the tree so that there will be a certain\n",
    "## number of clusters left. We set the number to 10\n",
    "\n",
    "from scipy import cluster\n",
    "cuttree = cluster.hierarchy.cut_tree(linkage_matrix, n_clusters=[10])"
   ]
  },
  {
   "cell_type": "code",
   "execution_count": 43,
   "metadata": {},
   "outputs": [
    {
     "data": {
      "text/plain": [
       "array([[0],\n",
       "       [1],\n",
       "       [2],\n",
       "       [3],\n",
       "       [4],\n",
       "       [2],\n",
       "       [2],\n",
       "       [2],\n",
       "       [5],\n",
       "       [3]])"
      ]
     },
     "execution_count": 43,
     "metadata": {},
     "output_type": "execute_result"
    }
   ],
   "source": [
    "## cuttree array holds numbers from 0 to 9, \n",
    "## that correspond to the 10 clusters we asked for\n",
    "\n",
    "cuttree[:10]"
   ]
  },
  {
   "cell_type": "code",
   "execution_count": 44,
   "metadata": {},
   "outputs": [],
   "source": [
    "## In order to see how the clustering went, we add the 'groups' \n",
    "## to the rest of the data set. Note that Pandas has kept\n",
    "## track of the index so that we are sure each \n",
    "## position of cuttree corresponds to the correct firm\n",
    "\n",
    "selection['groups'] = cuttree"
   ]
  },
  {
   "cell_type": "code",
   "execution_count": 45,
   "metadata": {},
   "outputs": [
    {
     "data": {
      "text/html": [
       "<div>\n",
       "<style scoped>\n",
       "    .dataframe tbody tr th:only-of-type {\n",
       "        vertical-align: middle;\n",
       "    }\n",
       "\n",
       "    .dataframe tbody tr th {\n",
       "        vertical-align: top;\n",
       "    }\n",
       "\n",
       "    .dataframe thead th {\n",
       "        text-align: right;\n",
       "    }\n",
       "</style>\n",
       "<table border=\"1\" class=\"dataframe\">\n",
       "  <thead>\n",
       "    <tr style=\"text-align: right;\">\n",
       "      <th></th>\n",
       "      <th>company_name</th>\n",
       "      <th>foundation_year</th>\n",
       "      <th>headquarters</th>\n",
       "      <th>industry</th>\n",
       "      <th>sector</th>\n",
       "      <th>text</th>\n",
       "      <th>wikipedia_url</th>\n",
       "      <th>groups</th>\n",
       "    </tr>\n",
       "  </thead>\n",
       "  <tbody>\n",
       "    <tr>\n",
       "      <th>102</th>\n",
       "      <td>Carrozzeria Touring</td>\n",
       "      <td>1926</td>\n",
       "      <td>Milan</td>\n",
       "      <td>Consumer goods</td>\n",
       "      <td>Automobiles</td>\n",
       "      <td>Carrozzeria Touring Superleggera is an Italian...</td>\n",
       "      <td>https://en.wikipedia.org/wiki/Carrozzeria_Touring</td>\n",
       "      <td>0</td>\n",
       "    </tr>\n",
       "    <tr>\n",
       "      <th>103</th>\n",
       "      <td>Casa Ricordi</td>\n",
       "      <td>1808</td>\n",
       "      <td>Milan</td>\n",
       "      <td>Consumer services</td>\n",
       "      <td>Publishing</td>\n",
       "      <td>Casa Ricordi is a publisher of primarily class...</td>\n",
       "      <td>https://en.wikipedia.org/wiki/Casa_Ricordi</td>\n",
       "      <td>1</td>\n",
       "    </tr>\n",
       "    <tr>\n",
       "      <th>108</th>\n",
       "      <td>Chiesi Farmaceutici S.p.A.</td>\n",
       "      <td>1935</td>\n",
       "      <td>Parma</td>\n",
       "      <td>Health care</td>\n",
       "      <td>Pharmaceuticals</td>\n",
       "      <td>Chiesi Farmaceutici S.p.A. is an Italian famil...</td>\n",
       "      <td>https://en.wikipedia.org/wiki/Chiesi_Farmaceut...</td>\n",
       "      <td>2</td>\n",
       "    </tr>\n",
       "    <tr>\n",
       "      <th>113</th>\n",
       "      <td>Colnago</td>\n",
       "      <td>1952</td>\n",
       "      <td>Cambiago</td>\n",
       "      <td>Consumer goods</td>\n",
       "      <td>Recreational products</td>\n",
       "      <td>Colnago Ernesto &amp; C. S.r.l. or Colnago is a ma...</td>\n",
       "      <td>https://en.wikipedia.org/wiki/Colnago</td>\n",
       "      <td>3</td>\n",
       "    </tr>\n",
       "    <tr>\n",
       "      <th>114</th>\n",
       "      <td>Colotti Trasmissioni</td>\n",
       "      <td>1958</td>\n",
       "      <td>Modena</td>\n",
       "      <td>Consumer goods</td>\n",
       "      <td>Auto parts</td>\n",
       "      <td>Colotti Trasmissioni (Colotti Transmission) is...</td>\n",
       "      <td>https://en.wikipedia.org/wiki/Colotti_Trasmiss...</td>\n",
       "      <td>4</td>\n",
       "    </tr>\n",
       "    <tr>\n",
       "      <th>116</th>\n",
       "      <td>Comau</td>\n",
       "      <td>1973</td>\n",
       "      <td>Turin</td>\n",
       "      <td>Industrials</td>\n",
       "      <td>Industrial machinery</td>\n",
       "      <td>Comau (COnsorzio MAcchine Utensili) is an Ital...</td>\n",
       "      <td>https://en.wikipedia.org/wiki/Comau</td>\n",
       "      <td>2</td>\n",
       "    </tr>\n",
       "    <tr>\n",
       "      <th>12</th>\n",
       "      <td>Air Italy</td>\n",
       "      <td>2005</td>\n",
       "      <td>Milan</td>\n",
       "      <td>Consumer services</td>\n",
       "      <td>Airlines</td>\n",
       "      <td>Air Italy (registered as AIR ITALY S.p.A.) [2]...</td>\n",
       "      <td>https://en.wikipedia.org/wiki/Air_Italy</td>\n",
       "      <td>2</td>\n",
       "    </tr>\n",
       "  </tbody>\n",
       "</table>\n",
       "</div>"
      ],
      "text/plain": [
       "                   company_name  foundation_year headquarters  \\\n",
       "102         Carrozzeria Touring             1926        Milan   \n",
       "103                Casa Ricordi             1808        Milan   \n",
       "108  Chiesi Farmaceutici S.p.A.             1935        Parma   \n",
       "113                     Colnago             1952     Cambiago   \n",
       "114        Colotti Trasmissioni             1958       Modena   \n",
       "116                       Comau             1973        Turin   \n",
       "12                    Air Italy             2005        Milan   \n",
       "\n",
       "              industry                 sector  \\\n",
       "102     Consumer goods            Automobiles   \n",
       "103  Consumer services             Publishing   \n",
       "108        Health care        Pharmaceuticals   \n",
       "113     Consumer goods  Recreational products   \n",
       "114     Consumer goods             Auto parts   \n",
       "116        Industrials   Industrial machinery   \n",
       "12   Consumer services               Airlines   \n",
       "\n",
       "                                                  text  \\\n",
       "102  Carrozzeria Touring Superleggera is an Italian...   \n",
       "103  Casa Ricordi is a publisher of primarily class...   \n",
       "108  Chiesi Farmaceutici S.p.A. is an Italian famil...   \n",
       "113  Colnago Ernesto & C. S.r.l. or Colnago is a ma...   \n",
       "114  Colotti Trasmissioni (Colotti Transmission) is...   \n",
       "116  Comau (COnsorzio MAcchine Utensili) is an Ital...   \n",
       "12   Air Italy (registered as AIR ITALY S.p.A.) [2]...   \n",
       "\n",
       "                                         wikipedia_url  groups  \n",
       "102  https://en.wikipedia.org/wiki/Carrozzeria_Touring       0  \n",
       "103         https://en.wikipedia.org/wiki/Casa_Ricordi       1  \n",
       "108  https://en.wikipedia.org/wiki/Chiesi_Farmaceut...       2  \n",
       "113              https://en.wikipedia.org/wiki/Colnago       3  \n",
       "114  https://en.wikipedia.org/wiki/Colotti_Trasmiss...       4  \n",
       "116                https://en.wikipedia.org/wiki/Comau       2  \n",
       "12             https://en.wikipedia.org/wiki/Air_Italy       2  "
      ]
     },
     "execution_count": 45,
     "metadata": {},
     "output_type": "execute_result"
    }
   ],
   "source": [
    "## This is then the dataset with our prediction about groups\n",
    "\n",
    "selection.head(7)"
   ]
  },
  {
   "cell_type": "code",
   "execution_count": 47,
   "metadata": {},
   "outputs": [
    {
     "name": "stdout",
     "output_type": "stream",
     "text": [
      "                          company_name  groups\n",
      "102                Carrozzeria Touring       0\n",
      "141                   DR Motor Company       0\n",
      "171                   Fiat Automobiles       0\n",
      "195                     Gruppo Bertone       0\n",
      "206                          Innocenti       0\n",
      "210                                Iso       0\n",
      "215                              Iveco       0\n",
      "265              Moretti Motor Company       0\n",
      "341  Società Torinese Automobili Rapid       0\n",
      "36                         Autobianchi       0\n",
      "367                          VM Motori       0\n",
      "372                             Zagato       0\n",
      "58                             Bianchi       0\n",
      "99                    Carrozzeria Ghia       0\n",
      "\n",
      "*****************************************\n",
      "\n",
      "                  company_name  groups\n",
      "103               Casa Ricordi       1\n",
      "138                    Diadora       1\n",
      "162               Fantic Motor       1\n",
      "164                    Fazioli       1\n",
      "17                      Alessi       1\n",
      "173          Fiocchi Munizioni       1\n",
      "217                      Kiton       1\n",
      "223                  Lagostina       1\n",
      "284                   Olivetti       1\n",
      "294                    Panerai       1\n",
      "295              Panini Comics       1\n",
      "300                    Perazzi       1\n",
      "31   Arnoldo Mondadori Editore       1\n",
      "327             San Pellegrino       1\n",
      "337                       Smeg       1\n",
      "364                     Vibram       1\n",
      "374                   Zamperla       1\n",
      "375                    Zanussi       1\n",
      "51                     Benetti       1\n",
      "54                     Beretta       1\n",
      "55                    Bertolli       1\n",
      "63               Birra Moretti       1\n",
      "72                   Borsalino       1\n",
      "93                       Candy       1\n",
      "\n",
      "*****************************************\n",
      "\n",
      "                   company_name  groups\n",
      "108  Chiesi Farmaceutici S.p.A.       2\n",
      "116                       Comau       2\n",
      "12                    Air Italy       2\n",
      "123              Costa Crociere       2\n",
      "13                      Air One       2\n",
      "145                      Edison       2\n",
      "146  Edoardo Raffinerie Garrone       2\n",
      "149                        Enel       2\n",
      "150                         Eni       2\n",
      "19                     Alitalia       2\n",
      "196                 Gruppo Riva       2\n",
      "200                  Hera Group       2\n",
      "201          Hitachi Rail Italy       2\n",
      "203                        Illy       2\n",
      "204          Impresa Pizzarotti       2\n",
      "212                 Italcementi       2\n",
      "228                     Lavazza       2\n",
      "230             Leonardo S.p.A.       2\n",
      "242                       Mapei       2\n",
      "246                    Marzotto       2\n",
      "250                  Mediobanca       2\n",
      "253                   Meridiana       2\n",
      "26              Ansaldo Energia       2\n",
      "27                  Ansaldo STS       2\n",
      "307           Piaggio Aerospace       2\n",
      "314              Poste italiane       2\n",
      "319              RCS MediaGroup       2\n",
      "321           Rizzani de Eccher       2\n",
      "325            Salini Impregilo       2\n",
      "33       Assicurazioni Generali       2\n",
      "330                    Selex ES       2\n",
      "333       Siae Microelettronica       2\n",
      "336                   Sigma-Tau       2\n",
      "349                     Techint       2\n",
      "357                      Unipol       2\n",
      "373                      Zambon       2\n",
      "47                Barilla Group       2\n",
      "76                 Bracco Group       2\n",
      "8                          Agip       2\n",
      "86                C.A.I. Second       2\n",
      "9                AgustaWestland       2\n",
      "\n",
      "*****************************************\n",
      "\n",
      "       company_name  groups\n",
      "113         Colnago       3\n",
      "125         Dainese       3\n",
      "132         De Rosa       3\n",
      "192          Gilera       3\n",
      "256         Minardi       3\n",
      "263         Mondial       3\n",
      "264      Morbidelli       3\n",
      "270          Motobi       3\n",
      "271       MV Agusta       3\n",
      "28          Aprilia       3\n",
      "309       Pinarello       3\n",
      "311         Pirelli       3\n",
      "52   Benetton Group       3\n",
      "59           Bimota       3\n",
      "78           Brembo       3\n",
      "87           Cagiva       3\n",
      "\n",
      "*****************************************\n",
      "\n",
      "             company_name  groups\n",
      "114  Colotti Trasmissioni       4\n",
      "126               Dallara       4\n",
      "133             De Tomaso       4\n",
      "168               Ferrari       4\n",
      "176             Fondmetal       4\n",
      "18             Alfa Romeo       4\n",
      "211      Isotta Fraschini       4\n",
      "224           Lamborghini       4\n",
      "226                Lancia       4\n",
      "247              Maserati       4\n",
      "262                  Momo       4\n",
      "272                 Nardi       4\n",
      "281                  OSCA       4\n",
      "288                Osella       4\n",
      "292                Pagani       4\n",
      "4                  Abarth       4\n",
      "46     Bandini Automobili       4\n",
      "65             Bizzarrini       4\n",
      "\n",
      "*****************************************\n",
      "\n",
      "                company_name  groups\n",
      "124                   Crumar       5\n",
      "157  Fratelli Fabbri Editori       5\n",
      "163                  Farfisa       5\n",
      "193        Gio. Ansaldo & C.       5\n",
      "207      Integration Objects       5\n",
      "252                 Menarini       5\n",
      "3                        A2A       5\n",
      "345                     SPEA       5\n",
      "366                 Viscount       5\n",
      "90                Campagnolo       5\n",
      "\n",
      "*****************************************\n",
      "\n",
      "                company_name  groups\n",
      "127                  Damiani       6\n",
      "151        Ermenegildo Zegna       6\n",
      "169              Ferrero SpA       6\n",
      "170           Ferretti Group       6\n",
      "197                    Gucci       6\n",
      "205          Indesit Company       6\n",
      "236                Luxottica       6\n",
      "273                  Natuzzi       6\n",
      "296                 Parmalat       6\n",
      "315                    Prada       6\n",
      "324                   Safilo       6\n",
      "371  YOOX Net-a-Porter Group       6\n",
      "84                   Bulgari       6\n",
      "91             Campari Group       6\n",
      "\n",
      "*****************************************\n",
      "\n",
      "                   company_name  groups\n",
      "139                      Diesel       7\n",
      "140             Dolce & Gabbana       7\n",
      "154                        Etro       7\n",
      "199                      Gufram       7\n",
      "220                    La Perla       7\n",
      "221               La Rinascente       7\n",
      "257                     Missoni       7\n",
      "259                     Miu Miu       7\n",
      "266                    Moschino       7\n",
      "30                       Armani       7\n",
      "326  Salvatore Ferragamo S.p.A.       7\n",
      "331                Sergio Rossi       7\n",
      "353                   Trussardi       7\n",
      "360                     Versace       7\n",
      "40                   B&B Italia       7\n",
      "67                       Blufin       7\n",
      "75                  Braccialini       7\n",
      "79                       Brioni       7\n",
      "\n",
      "*****************************************\n",
      "\n",
      "            company_name  groups\n",
      "143               Ducati       8\n",
      "213  Italdesign Giugiaro       8\n",
      "225            Lambretta       8\n",
      "229              Laverda       8\n",
      "268           Moto Guzzi       8\n",
      "308              Piaggio       8\n",
      "310          Pininfarina       8\n",
      "361                Vespa       8\n",
      "50               Benelli       8\n",
      "7              Aermacchi       8\n",
      "\n",
      "*****************************************\n",
      "\n",
      "                        company_name  groups\n",
      "208                  Intesa Sanpaolo       9\n",
      "355                        UBI Banca       9\n",
      "356                        UniCredit       9\n",
      "41                      Banca Carige       9\n",
      "42   Banca Monte dei Paschi di Siena       9\n",
      "44          Banca Popolare di Milano       9\n",
      "45                    Banco Popolare       9\n",
      "\n",
      "*****************************************\n",
      "\n"
     ]
    }
   ],
   "source": [
    "## Let us finally print the company names for each group\n",
    "\n",
    "for i in range(10):\n",
    "    print (selection[['company_name', 'groups']] [selection['groups'] == i])\n",
    "    print ('\\n*****************************************\\n')"
   ]
  },
  {
   "cell_type": "code",
   "execution_count": null,
   "metadata": {},
   "outputs": [],
   "source": []
  }
 ],
 "metadata": {
  "kernelspec": {
   "display_name": "Python 3",
   "language": "python",
   "name": "python3"
  },
  "language_info": {
   "codemirror_mode": {
    "name": "ipython",
    "version": 3
   },
   "file_extension": ".py",
   "mimetype": "text/x-python",
   "name": "python",
   "nbconvert_exporter": "python",
   "pygments_lexer": "ipython3",
   "version": "3.7.3"
  }
 },
 "nbformat": 4,
 "nbformat_minor": 2
}
